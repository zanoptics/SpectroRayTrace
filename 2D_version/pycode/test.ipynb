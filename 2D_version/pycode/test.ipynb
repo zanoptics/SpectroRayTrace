{
 "cells": [
  {
   "cell_type": "code",
   "execution_count": 10,
   "metadata": {},
   "outputs": [],
   "source": [
    "def getRGB(dWave,maxPix=1,gamma=1):\n",
    "    waveArea = [380,440,490,510,580,645,780]\n",
    "    minusWave = [0,440,440,510,510,645,780]\n",
    "    deltWave = [1,60,50,20,70,65,35]\n",
    "    for p in range(len(waveArea)): # 0-6\n",
    "        if dWave<waveArea[p]:\n",
    "            break\n",
    "\n",
    "    pVar = abs(minusWave[p]-dWave)/deltWave[p]\n",
    "    rgbs = [[0,0,0],[pVar,0,1],[0,pVar,1],[0,1,pVar],\n",
    "            [pVar,1,0],[1,pVar,0],[1,0,0],[0,0,0]]\n",
    "    \n",
    "    #在光谱边缘处颜色变暗\n",
    "    if (dWave>=380) & (dWave<420):\n",
    "        alpha = 0.3+0.7*(dWave-380)/(420-380)\n",
    "    elif (dWave>=420) & (dWave<701):\n",
    "        alpha = 1.0\n",
    "    elif (dWave>=701) & (dWave<780):\n",
    "        alpha = 0.3+0.7*(780-dWave)/(780-700)\n",
    "    else:\n",
    "        alpha = 0       #非可见区\n",
    "\n",
    "    return [maxPix*(c*alpha)**gamma for c in rgbs[p]]"
   ]
  },
  {
   "cell_type": "code",
   "execution_count": 20,
   "metadata": {},
   "outputs": [
    {
     "data": {
      "text/plain": [
       "[1.0, 0.0, 0.0]"
      ]
     },
     "execution_count": 20,
     "metadata": {},
     "output_type": "execute_result"
    }
   ],
   "source": [
    "getRGB(647)"
   ]
  },
  {
   "cell_type": "code",
   "execution_count": 16,
   "metadata": {},
   "outputs": [
    {
     "data": {
      "text/plain": [
       "[0.65, 1.0, 0.0]"
      ]
     },
     "execution_count": 16,
     "metadata": {},
     "output_type": "execute_result"
    }
   ],
   "source": [
    "getRGB(555.5,1,1)"
   ]
  },
  {
   "cell_type": "code",
   "execution_count": 3,
   "metadata": {},
   "outputs": [
    {
     "data": {
      "text/plain": [
       "135.4814998084615"
      ]
     },
     "execution_count": 3,
     "metadata": {},
     "output_type": "execute_result"
    }
   ],
   "source": [
    "import math\n",
    "math.acos(-11/((14*17)**0.5))*180/math.pi"
   ]
  },
  {
   "cell_type": "code",
   "execution_count": null,
   "metadata": {},
   "outputs": [
    {
     "data": {
      "text/plain": [
       "135.4814998084615"
      ]
     },
     "metadata": {},
     "output_type": "display_data"
    }
   ],
   "source": [
    "import math\n",
    "math.acos(-11/((14*17)**0.5))*180/math.pi"
   ]
  },
  {
   "cell_type": "code",
   "execution_count": null,
   "metadata": {},
   "outputs": [
    {
     "data": {
      "text/plain": [
       "135.4814998084615"
      ]
     },
     "metadata": {},
     "output_type": "display_data"
    }
   ],
   "source": [
    "import math\n",
    "math.acos(-11/((14*17)**0.5))*180/math.pi"
   ]
  },
  {
   "cell_type": "code",
   "execution_count": null,
   "metadata": {},
   "outputs": [
    {
     "data": {
      "text/plain": [
       "135.4814998084615"
      ]
     },
     "metadata": {},
     "output_type": "display_data"
    }
   ],
   "source": [
    "import math\n",
    "math.acos(-11/((14*17)**0.5))*180/math.pi"
   ]
  }
 ],
 "metadata": {
  "kernelspec": {
   "display_name": "base",
   "language": "python",
   "name": "python3"
  },
  "language_info": {
   "codemirror_mode": {
    "name": "ipython",
    "version": 3
   },
   "file_extension": ".py",
   "mimetype": "text/x-python",
   "name": "python",
   "nbconvert_exporter": "python",
   "pygments_lexer": "ipython3",
   "version": "3.8.13"
  },
  "orig_nbformat": 4
 },
 "nbformat": 4,
 "nbformat_minor": 2
}
